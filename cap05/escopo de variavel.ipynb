{
 "cells": [
  {
   "cell_type": "code",
   "execution_count": 1,
   "id": "47d2491e",
   "metadata": {},
   "outputs": [],
   "source": [
    "#variavel global\n",
    "var_global = 10\n",
    "\n",
    "def mult_num(num1, num2):\n",
    "    var_global = num1 * num2 #varivel local\n",
    "    print(var_global)"
   ]
  },
  {
   "cell_type": "code",
   "execution_count": 2,
   "id": "35509253",
   "metadata": {},
   "outputs": [
    {
     "name": "stdout",
     "output_type": "stream",
     "text": [
      "125\n"
     ]
    }
   ],
   "source": [
    "mult_num(5, 25)"
   ]
  },
  {
   "cell_type": "code",
   "execution_count": 3,
   "id": "0cb0c93f",
   "metadata": {},
   "outputs": [
    {
     "name": "stdout",
     "output_type": "stream",
     "text": [
      "10\n"
     ]
    }
   ],
   "source": [
    "print(var_global)"
   ]
  },
  {
   "cell_type": "code",
   "execution_count": 4,
   "id": "6c4fe940",
   "metadata": {},
   "outputs": [],
   "source": [
    "#variavel global\n",
    "var_global = 10\n",
    "\n",
    "def mult_num(num1, num2):\n",
    "    var_local = num1 * num2 #varivel local\n",
    "    print(var_local)"
   ]
  },
  {
   "cell_type": "code",
   "execution_count": 5,
   "id": "68a8f576",
   "metadata": {},
   "outputs": [
    {
     "name": "stdout",
     "output_type": "stream",
     "text": [
      "125\n"
     ]
    }
   ],
   "source": [
    "mult_num(5, 25)"
   ]
  },
  {
   "cell_type": "code",
   "execution_count": 6,
   "id": "fe691b2a",
   "metadata": {},
   "outputs": [
    {
     "name": "stdout",
     "output_type": "stream",
     "text": [
      "10\n"
     ]
    }
   ],
   "source": [
    "print(var_global)"
   ]
  },
  {
   "cell_type": "code",
   "execution_count": 7,
   "id": "b73cd567",
   "metadata": {},
   "outputs": [
    {
     "ename": "NameError",
     "evalue": "name 'var_local' is not defined",
     "output_type": "error",
     "traceback": [
      "\u001b[1;31m---------------------------------------------------------------------------\u001b[0m",
      "\u001b[1;31mNameError\u001b[0m                                 Traceback (most recent call last)",
      "\u001b[1;32m~\\AppData\\Local\\Temp\\ipykernel_12176\\1392635205.py\u001b[0m in \u001b[0;36m<module>\u001b[1;34m\u001b[0m\n\u001b[1;32m----> 1\u001b[1;33m \u001b[0mprint\u001b[0m\u001b[1;33m(\u001b[0m\u001b[0mvar_local\u001b[0m\u001b[1;33m)\u001b[0m\u001b[1;33m\u001b[0m\u001b[1;33m\u001b[0m\u001b[0m\n\u001b[0m",
      "\u001b[1;31mNameError\u001b[0m: name 'var_local' is not defined"
     ]
    }
   ],
   "source": [
    "print(var_local)"
   ]
  },
  {
   "cell_type": "code",
   "execution_count": null,
   "id": "8761ff4e",
   "metadata": {},
   "outputs": [],
   "source": []
  }
 ],
 "metadata": {
  "kernelspec": {
   "display_name": "Python 3 (ipykernel)",
   "language": "python",
   "name": "python3"
  },
  "language_info": {
   "codemirror_mode": {
    "name": "ipython",
    "version": 3
   },
   "file_extension": ".py",
   "mimetype": "text/x-python",
   "name": "python",
   "nbconvert_exporter": "python",
   "pygments_lexer": "ipython3",
   "version": "3.9.13"
  }
 },
 "nbformat": 4,
 "nbformat_minor": 5
}
