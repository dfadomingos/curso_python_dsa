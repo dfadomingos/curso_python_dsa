{
 "cells": [
  {
   "cell_type": "markdown",
   "metadata": {},
   "source": [
    "### Polimorfismo de Classes"
   ]
  },
  {
   "cell_type": "code",
   "execution_count": 1,
   "metadata": {},
   "outputs": [],
   "source": [
    "#polimorfismo permite que objetos de diferentes classes possam ser tratados de forma uniforme\n",
    "#um objeto pode ser tratado como se fosse um objeto de uma superclasse"
   ]
  },
  {
   "cell_type": "code",
   "execution_count": 2,
   "metadata": {},
   "outputs": [],
   "source": [
    "#superclasse\n",
    "class Veiculo:\n",
    "\n",
    "    def __init__(self, marca, modelo):\n",
    "        self.marca = marca\n",
    "        self.modelo = modelo\n",
    "\n",
    "    def acelerar(self):\n",
    "        pass\n",
    "\n",
    "    def frear(self):\n",
    "        pass"
   ]
  },
  {
   "cell_type": "code",
   "execution_count": 3,
   "metadata": {},
   "outputs": [],
   "source": [
    "#subclasse\n",
    "class Carro(Veiculo):\n",
    "\n",
    "    def acelerar(self):\n",
    "        print('O carro está acelerando.')\n",
    "\n",
    "    def frear(self):\n",
    "        print('O carro está freando.')"
   ]
  },
  {
   "cell_type": "code",
   "execution_count": null,
   "metadata": {},
   "outputs": [],
   "source": [
    "#subclasse\n",
    "class Moto(Veiculo):\n",
    "    \n",
    "    def acelerar(self):\n",
    "        print('O moto está acelerando.')\n",
    "\n",
    "    def frear(self):\n",
    "        print('O moto está freando.')"
   ]
  },
  {
   "cell_type": "code",
   "execution_count": 5,
   "metadata": {},
   "outputs": [],
   "source": [
    "#subclasse\n",
    "class Aviao(Veiculo):\n",
    "\n",
    "    def acelerar(self):\n",
    "        print('O aviao está acelerando.')\n",
    "\n",
    "    def frear(self):\n",
    "        print('O aviao está freando.')\n",
    "\n",
    "    def decolar(self):\n",
    "        print('O avião está decolando.')"
   ]
  },
  {
   "cell_type": "code",
   "execution_count": 6,
   "metadata": {},
   "outputs": [],
   "source": [
    "#cria os objetos\n",
    "lista_veiculos = [Carro('Porche', '911 Turbo'), Moto('Honda', 'CB 1000R Black Edition'), Aviao('Bowing', '757')]"
   ]
  },
  {
   "cell_type": "code",
   "execution_count": 7,
   "metadata": {},
   "outputs": [
    {
     "name": "stdout",
     "output_type": "stream",
     "text": [
      "O carro está acelerando.\n",
      "O carro está freando.\n",
      "---\n",
      "O moto está acelerando.\n",
      "O moto está freando.\n",
      "---\n",
      "O aviao está acelerando.\n",
      "O aviao está freando.\n",
      "O avião está decolando.\n",
      "---\n"
     ]
    }
   ],
   "source": [
    "#loop\n",
    "for item in lista_veiculos:\n",
    "\n",
    "    #o metodo acelerar tem comportamento diferente dependendo do tipo de objeto\n",
    "    item.acelerar()\n",
    "    \n",
    "    #o metodo frear tem comportamento diferente dependendo do tipo de objeto\n",
    "    item.frear()\n",
    "\n",
    "    #executando o metodo decolar somente se o objeto for instancia da classe aviao\n",
    "    if isinstance(item, Aviao):\n",
    "        item.decolar()\n",
    "    \n",
    "    print('---')\n",
    "\n"
   ]
  },
  {
   "cell_type": "code",
   "execution_count": null,
   "metadata": {},
   "outputs": [],
   "source": []
  }
 ],
 "metadata": {
  "kernelspec": {
   "display_name": "base",
   "language": "python",
   "name": "python3"
  },
  "language_info": {
   "codemirror_mode": {
    "name": "ipython",
    "version": 3
   },
   "file_extension": ".py",
   "mimetype": "text/x-python",
   "name": "python",
   "nbconvert_exporter": "python",
   "pygments_lexer": "ipython3",
   "version": "3.9.13"
  }
 },
 "nbformat": 4,
 "nbformat_minor": 2
}
