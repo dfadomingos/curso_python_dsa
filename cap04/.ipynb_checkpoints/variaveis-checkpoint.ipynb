{
 "cells": [
  {
   "cell_type": "markdown",
   "id": "0c32dfcc",
   "metadata": {},
   "source": [
    "### declaração multipla"
   ]
  },
  {
   "cell_type": "code",
   "execution_count": 1,
   "id": "4d72208f",
   "metadata": {},
   "outputs": [],
   "source": [
    "pessoa1, pessoa2, pessoa3 = \"Bob\", \"Maria\", \"Ana\""
   ]
  },
  {
   "cell_type": "code",
   "execution_count": 2,
   "id": "7b64225a",
   "metadata": {},
   "outputs": [
    {
     "data": {
      "text/plain": [
       "'Bob'"
      ]
     },
     "execution_count": 2,
     "metadata": {},
     "output_type": "execute_result"
    }
   ],
   "source": [
    "pessoa1"
   ]
  },
  {
   "cell_type": "code",
   "execution_count": 3,
   "id": "a32337e2",
   "metadata": {},
   "outputs": [
    {
     "data": {
      "text/plain": [
       "'Maria'"
      ]
     },
     "execution_count": 3,
     "metadata": {},
     "output_type": "execute_result"
    }
   ],
   "source": [
    "pessoa2"
   ]
  },
  {
   "cell_type": "code",
   "execution_count": 4,
   "id": "3b07ac69",
   "metadata": {},
   "outputs": [
    {
     "data": {
      "text/plain": [
       "'Ana'"
      ]
     },
     "execution_count": 4,
     "metadata": {},
     "output_type": "execute_result"
    }
   ],
   "source": [
    "pessoa3"
   ]
  },
  {
   "cell_type": "markdown",
   "id": "09b026f5",
   "metadata": {},
   "source": [
    "### Concatenação de variaveis"
   ]
  },
  {
   "cell_type": "code",
   "execution_count": 5,
   "id": "fdc08a74",
   "metadata": {},
   "outputs": [],
   "source": [
    "nome = \"Bob\""
   ]
  },
  {
   "cell_type": "code",
   "execution_count": 6,
   "id": "18b26ee4",
   "metadata": {},
   "outputs": [],
   "source": [
    "sobrenome = \"Marley\""
   ]
  },
  {
   "cell_type": "code",
   "execution_count": 8,
   "id": "8ddb2d8f",
   "metadata": {},
   "outputs": [],
   "source": [
    "fullName = nome + \" \" + sobrenome"
   ]
  },
  {
   "cell_type": "code",
   "execution_count": 9,
   "id": "4c417664",
   "metadata": {},
   "outputs": [
    {
     "data": {
      "text/plain": [
       "'Bob Marley'"
      ]
     },
     "execution_count": 9,
     "metadata": {},
     "output_type": "execute_result"
    }
   ],
   "source": [
    "fullName"
   ]
  },
  {
   "cell_type": "markdown",
   "id": "2c85f8d5",
   "metadata": {},
   "source": [
    "### Indexando strings"
   ]
  },
  {
   "cell_type": "code",
   "execution_count": 10,
   "id": "798914d9",
   "metadata": {},
   "outputs": [],
   "source": [
    "s = 'Data Science Academy'"
   ]
  },
  {
   "cell_type": "code",
   "execution_count": 11,
   "id": "e09c16ac",
   "metadata": {},
   "outputs": [
    {
     "name": "stdout",
     "output_type": "stream",
     "text": [
      "Data Science Academy\n"
     ]
    }
   ],
   "source": [
    "print(s)"
   ]
  },
  {
   "cell_type": "code",
   "execution_count": 13,
   "id": "1e982c58",
   "metadata": {},
   "outputs": [
    {
     "data": {
      "text/plain": [
       "'D'"
      ]
     },
     "execution_count": 13,
     "metadata": {},
     "output_type": "execute_result"
    }
   ],
   "source": [
    "#primeiro elemento da string\n",
    "s[0]"
   ]
  },
  {
   "cell_type": "code",
   "execution_count": 14,
   "id": "997f3d76",
   "metadata": {},
   "outputs": [
    {
     "data": {
      "text/plain": [
       "' '"
      ]
     },
     "execution_count": 14,
     "metadata": {},
     "output_type": "execute_result"
    }
   ],
   "source": [
    "s[4]"
   ]
  },
  {
   "cell_type": "code",
   "execution_count": 15,
   "id": "9527bbbc",
   "metadata": {},
   "outputs": [
    {
     "data": {
      "text/plain": [
       "'t'"
      ]
     },
     "execution_count": 15,
     "metadata": {},
     "output_type": "execute_result"
    }
   ],
   "source": [
    "s[2]"
   ]
  },
  {
   "cell_type": "code",
   "execution_count": 16,
   "id": "75c1d136",
   "metadata": {},
   "outputs": [
    {
     "data": {
      "text/plain": [
       "'ata Science Academy'"
      ]
     },
     "execution_count": 16,
     "metadata": {},
     "output_type": "execute_result"
    }
   ],
   "source": [
    "s[1:] #do 1 ao fim"
   ]
  },
  {
   "cell_type": "code",
   "execution_count": 19,
   "id": "8ebaab0a",
   "metadata": {},
   "outputs": [
    {
     "data": {
      "text/plain": [
       "'Dat'"
      ]
     },
     "execution_count": 19,
     "metadata": {},
     "output_type": "execute_result"
    }
   ],
   "source": [
    "s[:3]"
   ]
  },
  {
   "cell_type": "code",
   "execution_count": 20,
   "id": "b21e525a",
   "metadata": {},
   "outputs": [
    {
     "data": {
      "text/plain": [
       "'ymedacA ecneicS ataD'"
      ]
     },
     "execution_count": 20,
     "metadata": {},
     "output_type": "execute_result"
    }
   ],
   "source": [
    "s[::-1] #palavra ao contrario"
   ]
  },
  {
   "cell_type": "code",
   "execution_count": 21,
   "id": "8ed242cf",
   "metadata": {},
   "outputs": [
    {
     "data": {
      "text/plain": [
       "'Dt cec cdm'"
      ]
     },
     "execution_count": 21,
     "metadata": {},
     "output_type": "execute_result"
    }
   ],
   "source": [
    "s[::2] #de 2 em 2"
   ]
  },
  {
   "cell_type": "markdown",
   "id": "4095997a",
   "metadata": {},
   "source": [
    "### Concatenando string"
   ]
  },
  {
   "cell_type": "code",
   "execution_count": 23,
   "id": "b50a1c70",
   "metadata": {},
   "outputs": [
    {
     "data": {
      "text/plain": [
       "'Data Science Academy mensagem'"
      ]
     },
     "execution_count": 23,
     "metadata": {},
     "output_type": "execute_result"
    }
   ],
   "source": [
    "s + ' mensagem'"
   ]
  },
  {
   "cell_type": "code",
   "execution_count": 24,
   "id": "33ab93dd",
   "metadata": {},
   "outputs": [],
   "source": [
    "letra = 'w'"
   ]
  },
  {
   "cell_type": "code",
   "execution_count": 25,
   "id": "cfe2a83d",
   "metadata": {},
   "outputs": [
    {
     "data": {
      "text/plain": [
       "'www'"
      ]
     },
     "execution_count": 25,
     "metadata": {},
     "output_type": "execute_result"
    }
   ],
   "source": [
    "letra * 3"
   ]
  },
  {
   "cell_type": "markdown",
   "id": "b01be667",
   "metadata": {},
   "source": [
    "### Funçoes built-in de strings"
   ]
  },
  {
   "cell_type": "code",
   "execution_count": 31,
   "id": "e8e1848b",
   "metadata": {},
   "outputs": [],
   "source": [
    "s1 = s + 'é a melhor maneira de estar preparado para o mercado de trabalho em ciência de dados'"
   ]
  },
  {
   "cell_type": "code",
   "execution_count": 32,
   "id": "02a056d9",
   "metadata": {},
   "outputs": [
    {
     "data": {
      "text/plain": [
       "'DATA SCIENCE ACADEMYÉ A MELHOR MANEIRA DE ESTAR PREPARADO PARA O MERCADO DE TRABALHO EM CIÊNCIA DE DADOS'"
      ]
     },
     "execution_count": 32,
     "metadata": {},
     "output_type": "execute_result"
    }
   ],
   "source": [
    "s1.upper()"
   ]
  },
  {
   "cell_type": "code",
   "execution_count": 33,
   "id": "4c6e2ae2",
   "metadata": {},
   "outputs": [
    {
     "data": {
      "text/plain": [
       "'data science academyé a melhor maneira de estar preparado para o mercado de trabalho em ciência de dados'"
      ]
     },
     "execution_count": 33,
     "metadata": {},
     "output_type": "execute_result"
    }
   ],
   "source": [
    "s1.lower()"
   ]
  },
  {
   "cell_type": "code",
   "execution_count": 34,
   "id": "8c4847ce",
   "metadata": {},
   "outputs": [
    {
     "data": {
      "text/plain": [
       "['Data',\n",
       " 'Science',\n",
       " 'Academyé',\n",
       " 'a',\n",
       " 'melhor',\n",
       " 'maneira',\n",
       " 'de',\n",
       " 'estar',\n",
       " 'preparado',\n",
       " 'para',\n",
       " 'o',\n",
       " 'mercado',\n",
       " 'de',\n",
       " 'trabalho',\n",
       " 'em',\n",
       " 'ciência',\n",
       " 'de',\n",
       " 'dados']"
      ]
     },
     "execution_count": 34,
     "metadata": {},
     "output_type": "execute_result"
    }
   ],
   "source": [
    "s1.split()"
   ]
  },
  {
   "cell_type": "code",
   "execution_count": 35,
   "id": "2ee0f1cb",
   "metadata": {},
   "outputs": [
    {
     "data": {
      "text/plain": [
       "['Data Science Academ',\n",
       " 'é a melhor maneira de estar preparado para o mercado de trabalho em ciência de dados']"
      ]
     },
     "execution_count": 35,
     "metadata": {},
     "output_type": "execute_result"
    }
   ],
   "source": [
    "#dividir a string por um elemento especifico\n",
    "s1.split('y')"
   ]
  },
  {
   "cell_type": "markdown",
   "id": "0588795b",
   "metadata": {},
   "source": [
    "### Funções strings"
   ]
  },
  {
   "cell_type": "code",
   "execution_count": 38,
   "id": "10695071",
   "metadata": {},
   "outputs": [],
   "source": [
    "s = 'seja bem vindo ao universo da Linguagem Python!'"
   ]
  },
  {
   "cell_type": "code",
   "execution_count": 39,
   "id": "ac1709bf",
   "metadata": {},
   "outputs": [
    {
     "data": {
      "text/plain": [
       "'Seja bem vindo ao universo da linguagem python!'"
      ]
     },
     "execution_count": 39,
     "metadata": {},
     "output_type": "execute_result"
    }
   ],
   "source": [
    "s.capitalize()"
   ]
  },
  {
   "cell_type": "code",
   "execution_count": 42,
   "id": "b7022870",
   "metadata": {},
   "outputs": [
    {
     "data": {
      "text/plain": [
       "4"
      ]
     },
     "execution_count": 42,
     "metadata": {},
     "output_type": "execute_result"
    }
   ],
   "source": [
    "s.count('a')"
   ]
  },
  {
   "cell_type": "code",
   "execution_count": 43,
   "id": "48695f9b",
   "metadata": {},
   "outputs": [
    {
     "data": {
      "text/plain": [
       "False"
      ]
     },
     "execution_count": 43,
     "metadata": {},
     "output_type": "execute_result"
    }
   ],
   "source": [
    "s.isalnum() #a string é toda de numeros?"
   ]
  },
  {
   "cell_type": "code",
   "execution_count": 44,
   "id": "e658129f",
   "metadata": {},
   "outputs": [
    {
     "data": {
      "text/plain": [
       "False"
      ]
     },
     "execution_count": 44,
     "metadata": {},
     "output_type": "execute_result"
    }
   ],
   "source": [
    "s.islower() #a string é toda minuscula?"
   ]
  },
  {
   "cell_type": "code",
   "execution_count": 45,
   "id": "8f851638",
   "metadata": {},
   "outputs": [
    {
     "data": {
      "text/plain": [
       "False"
      ]
     },
     "execution_count": 45,
     "metadata": {},
     "output_type": "execute_result"
    }
   ],
   "source": [
    "s.isspace() #é toda espaço?"
   ]
  },
  {
   "cell_type": "code",
   "execution_count": 46,
   "id": "906df1be",
   "metadata": {},
   "outputs": [
    {
     "data": {
      "text/plain": [
       "False"
      ]
     },
     "execution_count": 46,
     "metadata": {},
     "output_type": "execute_result"
    }
   ],
   "source": [
    "s.endswith('o') #termina com 'o' ?"
   ]
  },
  {
   "cell_type": "code",
   "execution_count": null,
   "id": "63f63cd0",
   "metadata": {},
   "outputs": [],
   "source": []
  }
 ],
 "metadata": {
  "kernelspec": {
   "display_name": "Python 3 (ipykernel)",
   "language": "python",
   "name": "python3"
  },
  "language_info": {
   "codemirror_mode": {
    "name": "ipython",
    "version": 3
   },
   "file_extension": ".py",
   "mimetype": "text/x-python",
   "name": "python",
   "nbconvert_exporter": "python",
   "pygments_lexer": "ipython3",
   "version": "3.9.13"
  }
 },
 "nbformat": 4,
 "nbformat_minor": 5
}
