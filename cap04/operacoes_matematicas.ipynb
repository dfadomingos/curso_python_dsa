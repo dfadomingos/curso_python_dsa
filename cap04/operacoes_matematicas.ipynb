{
 "cells": [
  {
   "cell_type": "markdown",
   "id": "b54a1a1c",
   "metadata": {},
   "source": [
    "hexadecimal e binario"
   ]
  },
  {
   "cell_type": "code",
   "execution_count": 1,
   "id": "40a40872",
   "metadata": {},
   "outputs": [
    {
     "data": {
      "text/plain": [
       "'0x18a'"
      ]
     },
     "execution_count": 1,
     "metadata": {},
     "output_type": "execute_result"
    }
   ],
   "source": [
    "hex(394)"
   ]
  },
  {
   "cell_type": "code",
   "execution_count": 2,
   "id": "6a4b9913",
   "metadata": {},
   "outputs": [
    {
     "data": {
      "text/plain": [
       "'0xd9'"
      ]
     },
     "execution_count": 2,
     "metadata": {},
     "output_type": "execute_result"
    }
   ],
   "source": [
    "hex(217)"
   ]
  },
  {
   "cell_type": "code",
   "execution_count": 3,
   "id": "78e941cf",
   "metadata": {},
   "outputs": [
    {
     "data": {
      "text/plain": [
       "'0b100101000'"
      ]
     },
     "execution_count": 3,
     "metadata": {},
     "output_type": "execute_result"
    }
   ],
   "source": [
    "bin(296)"
   ]
  },
  {
   "cell_type": "code",
   "execution_count": 4,
   "id": "4b16b01e",
   "metadata": {},
   "outputs": [
    {
     "data": {
      "text/plain": [
       "'0b110000110'"
      ]
     },
     "execution_count": 4,
     "metadata": {},
     "output_type": "execute_result"
    }
   ],
   "source": [
    "bin(390)"
   ]
  },
  {
   "cell_type": "markdown",
   "id": "72c1180d",
   "metadata": {},
   "source": [
    "Funçoes abs, round e pow"
   ]
  },
  {
   "cell_type": "code",
   "execution_count": 7,
   "id": "daccebe6",
   "metadata": {},
   "outputs": [
    {
     "data": {
      "text/plain": [
       "8"
      ]
     },
     "execution_count": 7,
     "metadata": {},
     "output_type": "execute_result"
    }
   ],
   "source": [
    "abs(-8)  #valor absuto"
   ]
  },
  {
   "cell_type": "code",
   "execution_count": 8,
   "id": "9f4f4c36",
   "metadata": {},
   "outputs": [
    {
     "data": {
      "text/plain": [
       "16"
      ]
     },
     "execution_count": 8,
     "metadata": {},
     "output_type": "execute_result"
    }
   ],
   "source": [
    "pow(4,2) #pow(numero, expoente)"
   ]
  },
  {
   "cell_type": "code",
   "execution_count": 9,
   "id": "886e8c20",
   "metadata": {},
   "outputs": [
    {
     "data": {
      "text/plain": [
       "3.14"
      ]
     },
     "execution_count": 9,
     "metadata": {},
     "output_type": "execute_result"
    }
   ],
   "source": [
    "round(3.14151922, 2) #(numero, casas decimais)"
   ]
  },
  {
   "cell_type": "code",
   "execution_count": null,
   "id": "c3d1d56f",
   "metadata": {},
   "outputs": [],
   "source": []
  }
 ],
 "metadata": {
  "kernelspec": {
   "display_name": "Python 3 (ipykernel)",
   "language": "python",
   "name": "python3"
  },
  "language_info": {
   "codemirror_mode": {
    "name": "ipython",
    "version": 3
   },
   "file_extension": ".py",
   "mimetype": "text/x-python",
   "name": "python",
   "nbconvert_exporter": "python",
   "pygments_lexer": "ipython3",
   "version": "3.9.13"
  }
 },
 "nbformat": 4,
 "nbformat_minor": 5
}
