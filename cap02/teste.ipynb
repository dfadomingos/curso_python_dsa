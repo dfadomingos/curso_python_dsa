{
 "cells": [
  {
   "cell_type": "code",
   "execution_count": 1,
   "id": "71e62379",
   "metadata": {},
   "outputs": [
    {
     "data": {
      "text/plain": [
       "4"
      ]
     },
     "execution_count": 1,
     "metadata": {},
     "output_type": "execute_result"
    }
   ],
   "source": [
    "2 +2"
   ]
  },
  {
   "cell_type": "code",
   "execution_count": 2,
   "id": "9dfd7332",
   "metadata": {},
   "outputs": [
    {
     "name": "stdout",
     "output_type": "stream",
     "text": [
      "Olá mundo\n"
     ]
    }
   ],
   "source": [
    "print('Olá mundo')"
   ]
  },
  {
   "cell_type": "markdown",
   "id": "f065dfdc",
   "metadata": {},
   "source": [
    "gere codigo python que cria uma lista com os numeros entre 1 e 100 e entao imprima os numeros pares, \n",
    "mas somente se for divisivel por 4"
   ]
  },
  {
   "cell_type": "code",
   "execution_count": 4,
   "id": "5480f2b3",
   "metadata": {},
   "outputs": [
    {
     "name": "stdout",
     "output_type": "stream",
     "text": [
      "4\n",
      "8\n",
      "12\n",
      "16\n",
      "20\n",
      "24\n",
      "28\n",
      "32\n",
      "36\n",
      "40\n",
      "44\n",
      "48\n",
      "52\n",
      "56\n",
      "60\n",
      "64\n",
      "68\n",
      "72\n",
      "76\n",
      "80\n",
      "84\n",
      "88\n",
      "92\n",
      "96\n",
      "100\n"
     ]
    }
   ],
   "source": [
    "# Criando uma lista com os números de 1 a 100\n",
    "numeros = list(range(1, 101))\n",
    "\n",
    "# Iterando sobre a lista e imprimindo os números pares divisíveis por 4\n",
    "for num in numeros:\n",
    "    if num % 2 == 0 and num % 4 == 0:\n",
    "        print(num)\n"
   ]
  },
  {
   "cell_type": "markdown",
   "id": "fdc64f6e",
   "metadata": {},
   "source": [
    "Esse código cria uma lista com números de 1 a 100 e imprime apenas os números pares que também são divisíveis por 4, \n",
    "usando list comprehesion"
   ]
  },
  {
   "cell_type": "code",
   "execution_count": 5,
   "id": "3b5d16ae",
   "metadata": {},
   "outputs": [
    {
     "name": "stdout",
     "output_type": "stream",
     "text": [
      "[4, 8, 12, 16, 20, 24, 28, 32, 36, 40, 44, 48, 52, 56, 60, 64, 68, 72, 76, 80, 84, 88, 92, 96, 100]\n"
     ]
    }
   ],
   "source": [
    "numeros_pares_div4 = [num for num in range(1, 101) if num % 2 == 0 and num % 4 == 0]\n",
    "\n",
    "# Imprimindo os números\n",
    "print(numeros_pares_div4)"
   ]
  },
  {
   "cell_type": "markdown",
   "id": "3f9a49f2",
   "metadata": {},
   "source": [
    "# Fim"
   ]
  }
 ],
 "metadata": {
  "kernelspec": {
   "display_name": "Python 3 (ipykernel)",
   "language": "python",
   "name": "python3"
  },
  "language_info": {
   "codemirror_mode": {
    "name": "ipython",
    "version": 3
   },
   "file_extension": ".py",
   "mimetype": "text/x-python",
   "name": "python",
   "nbconvert_exporter": "python",
   "pygments_lexer": "ipython3",
   "version": "3.9.13"
  }
 },
 "nbformat": 4,
 "nbformat_minor": 5
}
