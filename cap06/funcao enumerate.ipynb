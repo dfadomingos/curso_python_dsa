{
 "cells": [
  {
   "cell_type": "code",
   "execution_count": 1,
   "id": "67749bde",
   "metadata": {},
   "outputs": [],
   "source": [
    "#retorna um objeto enumerado, que pode ser usado em loops para percorrer a estrutura de dados e acessar o contador\n",
    "#e o valor de cada elemento"
   ]
  },
  {
   "cell_type": "code",
   "execution_count": 2,
   "id": "4554dca6",
   "metadata": {},
   "outputs": [],
   "source": [
    "seq = ['a', 'b', 'c']"
   ]
  },
  {
   "cell_type": "code",
   "execution_count": 3,
   "id": "09db5980",
   "metadata": {},
   "outputs": [
    {
     "data": {
      "text/plain": [
       "<enumerate at 0x15061e27a00>"
      ]
     },
     "execution_count": 3,
     "metadata": {},
     "output_type": "execute_result"
    }
   ],
   "source": [
    "enumerate(seq)"
   ]
  },
  {
   "cell_type": "code",
   "execution_count": 4,
   "id": "7873f91d",
   "metadata": {},
   "outputs": [
    {
     "data": {
      "text/plain": [
       "[(0, 'a'), (1, 'b'), (2, 'c')]"
      ]
     },
     "execution_count": 4,
     "metadata": {},
     "output_type": "execute_result"
    }
   ],
   "source": [
    "list(enumerate(seq))"
   ]
  },
  {
   "cell_type": "code",
   "execution_count": 5,
   "id": "219bd865",
   "metadata": {},
   "outputs": [
    {
     "name": "stdout",
     "output_type": "stream",
     "text": [
      "0 a\n",
      "1 b\n",
      "2 c\n"
     ]
    }
   ],
   "source": [
    "for indice, valor in enumerate(seq):\n",
    "    print(indice, valor)"
   ]
  },
  {
   "cell_type": "code",
   "execution_count": 6,
   "id": "69888b35",
   "metadata": {},
   "outputs": [
    {
     "name": "stdout",
     "output_type": "stream",
     "text": [
      "a\n",
      "b\n"
     ]
    }
   ],
   "source": [
    "for indice, valor in enumerate(seq):\n",
    "    if indice >=2:\n",
    "        break\n",
    "    else:\n",
    "        print(valor)"
   ]
  },
  {
   "cell_type": "code",
   "execution_count": 7,
   "id": "173d5e51",
   "metadata": {},
   "outputs": [],
   "source": [
    "lista = ['Marketing', 'Tecnologia', 'Business']"
   ]
  },
  {
   "cell_type": "code",
   "execution_count": 8,
   "id": "2b339e0e",
   "metadata": {},
   "outputs": [
    {
     "name": "stdout",
     "output_type": "stream",
     "text": [
      "0 Marketing\n",
      "1 Tecnologia\n",
      "2 Business\n"
     ]
    }
   ],
   "source": [
    "for i, item in enumerate(lista):\n",
    "    print(i, item)"
   ]
  },
  {
   "cell_type": "code",
   "execution_count": 9,
   "id": "ca8a4042",
   "metadata": {},
   "outputs": [
    {
     "name": "stdout",
     "output_type": "stream",
     "text": [
      "0 0\n",
      "1 1\n",
      "2 2\n",
      "3 3\n",
      "4 4\n",
      "5 5\n",
      "6 6\n",
      "7 7\n",
      "8 8\n",
      "9 9\n"
     ]
    }
   ],
   "source": [
    "for i, item in enumerate(range(10)):\n",
    "    print(i, item)"
   ]
  },
  {
   "cell_type": "code",
   "execution_count": 10,
   "id": "8a3681f5",
   "metadata": {},
   "outputs": [
    {
     "name": "stdout",
     "output_type": "stream",
     "text": [
      "0 D\n",
      "1 a\n",
      "2 t\n",
      "3 a\n",
      "4  \n",
      "5 S\n",
      "6 c\n",
      "7 i\n",
      "8 e\n",
      "9 n\n",
      "10 c\n",
      "11 e\n",
      "12  \n",
      "13 A\n",
      "14 c\n",
      "15 a\n",
      "16 d\n",
      "17 e\n",
      "18 m\n",
      "19 y\n"
     ]
    }
   ],
   "source": [
    "for i, item in enumerate('Data Science Academy'):\n",
    "    print(i, item)"
   ]
  },
  {
   "cell_type": "code",
   "execution_count": null,
   "id": "1d604f26",
   "metadata": {},
   "outputs": [],
   "source": []
  }
 ],
 "metadata": {
  "kernelspec": {
   "display_name": "Python 3 (ipykernel)",
   "language": "python",
   "name": "python3"
  },
  "language_info": {
   "codemirror_mode": {
    "name": "ipython",
    "version": 3
   },
   "file_extension": ".py",
   "mimetype": "text/x-python",
   "name": "python",
   "nbconvert_exporter": "python",
   "pygments_lexer": "ipython3",
   "version": "3.9.13"
  }
 },
 "nbformat": 4,
 "nbformat_minor": 5
}
