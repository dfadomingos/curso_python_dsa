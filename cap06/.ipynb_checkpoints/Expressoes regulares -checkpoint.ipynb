{
 "cells": [
  {
   "cell_type": "code",
   "execution_count": 1,
   "id": "5cf4bcfa",
   "metadata": {},
   "outputs": [],
   "source": [
    "#sao padroes usados para combinar ou encontrar ocorrencias de sequencias de caracteres em uma string\n",
    "#usadas para manipular strings e realizar tarefas como validação de entrada de dados, extração de informaçoes de strings\n",
    "#e substituição de texto"
   ]
  },
  {
   "cell_type": "code",
   "execution_count": 5,
   "id": "00ff500c",
   "metadata": {},
   "outputs": [],
   "source": [
    "import re"
   ]
  },
  {
   "cell_type": "code",
   "execution_count": 4,
   "id": "ed4e6522",
   "metadata": {},
   "outputs": [],
   "source": [
    "texto = 'Meu e-mail é exemplo@gmail.com e você pode me contatar em outro_email@yahoo.com'"
   ]
  },
  {
   "cell_type": "code",
   "execution_count": 5,
   "id": "7969c048",
   "metadata": {},
   "outputs": [],
   "source": [
    "resultado = len(re.findall('@', texto))"
   ]
  },
  {
   "cell_type": "code",
   "execution_count": 6,
   "id": "289195ba",
   "metadata": {},
   "outputs": [
    {
     "name": "stdout",
     "output_type": "stream",
     "text": [
      "O caractere @ apareceu 2 vezes no texto\n"
     ]
    }
   ],
   "source": [
    "print('O caractere @ apareceu', resultado, 'vezes no texto')"
   ]
  },
  {
   "cell_type": "code",
   "execution_count": 8,
   "id": "402c6112",
   "metadata": {},
   "outputs": [],
   "source": [
    "resultado = re.findall(r'você (\\w+)', texto)   #\\w busca palavra   "
   ]
  },
  {
   "cell_type": "code",
   "execution_count": 9,
   "id": "d84ec030",
   "metadata": {},
   "outputs": [
    {
     "name": "stdout",
     "output_type": "stream",
     "text": [
      "A palavra apos 'você' é: pode\n"
     ]
    }
   ],
   "source": [
    "print(\"A palavra apos 'você' é:\", resultado[0])"
   ]
  },
  {
   "cell_type": "code",
   "execution_count": 10,
   "id": "14d15827",
   "metadata": {},
   "outputs": [],
   "source": [
    "#expressao regular para extrair endereços de email de uma string\n",
    "emails = re.findall(r'\\b[A-Za-z0-9._%+-]+@[A-Z|a-z]{2,}\\b', texto)"
   ]
  },
  {
   "cell_type": "code",
   "execution_count": 11,
   "id": "574a7fc9",
   "metadata": {},
   "outputs": [
    {
     "name": "stdout",
     "output_type": "stream",
     "text": [
      "['exemplo@gmail', 'outro_email@yahoo']\n"
     ]
    }
   ],
   "source": [
    "print(emails)"
   ]
  },
  {
   "cell_type": "code",
   "execution_count": 3,
   "id": "a39d29fe",
   "metadata": {},
   "outputs": [],
   "source": [
    "text = 'O aluno estava incrivelmente perdido, mas encontrou a DSA e rapidamente começou a aprender'"
   ]
  },
  {
   "cell_type": "code",
   "execution_count": 6,
   "id": "e26bfa40",
   "metadata": {},
   "outputs": [
    {
     "name": "stdout",
     "output_type": "stream",
     "text": [
      "15-28: incrivelmente\n",
      "60-71: rapidamente\n"
     ]
    }
   ],
   "source": [
    "#extraindo os adverbios da frase\n",
    "for m in re.finditer(r'\\w+mente\\b', text):\n",
    "    print('%02d-%02d: %s' % (m.start(), m.end(), m.group(0)))"
   ]
  },
  {
   "cell_type": "markdown",
   "id": "2f263e00",
   "metadata": {},
   "source": [
    "## Regex com chatgpt"
   ]
  },
  {
   "cell_type": "code",
   "execution_count": 7,
   "id": "89023aa2",
   "metadata": {},
   "outputs": [],
   "source": [
    "musica = '''\n",
    "So where are you? It's been a little while\n",
    "Sippin' on straight chlorine, let the vibes slide over me\n",
    "This beat is a chemical, beat is a chemical\n",
    "When I leave don't save my seat, I'll be back when it's all complete\n",
    "The moment is medical, moment is medical\n",
    "Sippin' on straight chlorine\n",
    "Lovin' what I'm tastin'\n",
    "Venom on my tongue\n",
    "Dependant at times\n",
    "Poisonous vibration\n",
    "Help my body run\n",
    "I'm runnin' for my li-i-i-i-i-i-fe\n",
    "Runnin' for my li-i-i-i-i-i-fe\n",
    "Sippin' on straight chlorine, let the vibes slide over me\n",
    "This beat is a chemical, beat is a chemical\n",
    "When I leave don't save my seat, I'll be back when it's all complete\n",
    "The moment is medical, moment is medical\n",
    "Sippin' on straight chlorine\n",
    "Fall out of formation\n",
    "I plan my escape from walls they confined\n",
    "Rebel red carnation\n",
    "Grows while I decay\n",
    "I'm runnin' for my li-i-i-i-i-i-fe\n",
    "Runnin' for my li-i-i-i-i-i-fe\n",
    "Yeah, I'm runnin' for my li-i-i-i-i-i-fe\n",
    "Runnin' for my li-i-i-i-i-i-fe\n",
    "Had you in my coat pocket, where I kept my rebel red\n",
    "I felt I was invincible, you wrapped around my head\n",
    "Now different lives I lead, my body lives on lead\n",
    "The last two lines may read incorrect until said\n",
    "The lead is terrible in flavor\n",
    "But now you double as a papermaker\n",
    "I despise you sometimes\n",
    "I love to hate the fight and you in my life is like\n",
    "Sippin' on straight chlorine, let the vibes slide over me\n",
    "This beat is a chemical, beat is a chemical\n",
    "When I leave don't save my seat, I'll be back when it's all complete\n",
    "The moment is medical, moment is medical\n",
    "Sippin' on straight chlorine\n",
    "Let the vibe, let the vibe\n",
    "Let the vibe, let the vibe\n",
    "Beat is a chemical, yeah\n",
    "Let the vibe, let the vibe\n",
    "Let the vibe, let the vibe\n",
    "Moment is medical, yeah\n",
    "Sippin' on straight chlorine\n",
    "Let the vibe, let the vibe\n",
    "Let the vibe, let the vibe\n",
    "Beat is a chemical, yeah\n",
    "Let the vibe, let the vibe\n",
    "Let the vibe, let the vibe\n",
    "Moment is medical, yeah\n",
    "I'm so sorry, I forgot you\n",
    "Let me catch you up to speed\n",
    "I've been tested like the ends of\n",
    "A weathered flag that's by the sea\n",
    "Can you build my house with pieces?\n",
    "I'm just a chemical\n",
    "Can you build my house with pieces?\n",
    "I'm just a chemical\n",
    "Can you build my house with pieces?\n",
    "I'm just a chemical\n",
    "Can you build my house with pieces?\n",
    "I'm just a chemical\n",
    "'''"
   ]
  },
  {
   "cell_type": "code",
   "execution_count": 8,
   "id": "7b57fbaa",
   "metadata": {},
   "outputs": [
    {
     "name": "stdout",
     "output_type": "stream",
     "text": [
      "\n",
      "So where are you? It's been a little while\n",
      "Sippin' on straight chlorine, let the vibes slide over me\n",
      "This beat is a chemical, beat is a chemical\n",
      "When I leave don't save my seat, I'll be back when it's all complete\n",
      "The moment is medical, moment is medical\n",
      "Sippin' on straight chlorine\n",
      "Lovin' what I'm tastin'\n",
      "Venom on my tongue\n",
      "Dependant at times\n",
      "Poisonous vibration\n",
      "Help my body run\n",
      "I'm runnin' for my li-i-i-i-i-i-fe\n",
      "Runnin' for my li-i-i-i-i-i-fe\n",
      "Sippin' on straight chlorine, let the vibes slide over me\n",
      "This beat is a chemical, beat is a chemical\n",
      "When I leave don't save my seat, I'll be back when it's all complete\n",
      "The moment is medical, moment is medical\n",
      "Sippin' on straight chlorine\n",
      "Fall out of formation\n",
      "I plan my escape from walls they confined\n",
      "Rebel red carnation\n",
      "Grows while I decay\n",
      "I'm runnin' for my li-i-i-i-i-i-fe\n",
      "Runnin' for my li-i-i-i-i-i-fe\n",
      "Yeah, I'm runnin' for my li-i-i-i-i-i-fe\n",
      "Runnin' for my li-i-i-i-i-i-fe\n",
      "Had you in my coat pocket, where I kept my rebel red\n",
      "I felt I was invincible, you wrapped around my head\n",
      "Now different lives I lead, my body lives on lead\n",
      "The last two lines may read incorrect until said\n",
      "The lead is terrible in flavor\n",
      "But now you double as a papermaker\n",
      "I despise you sometimes\n",
      "I love to hate the fight and you in my life is like\n",
      "Sippin' on straight chlorine, let the vibes slide over me\n",
      "This beat is a chemical, beat is a chemical\n",
      "When I leave don't save my seat, I'll be back when it's all complete\n",
      "The moment is medical, moment is medical\n",
      "Sippin' on straight chlorine\n",
      "Let the vibe, let the vibe\n",
      "Let the vibe, let the vibe\n",
      "Beat is a chemical, yeah\n",
      "Let the vibe, let the vibe\n",
      "Let the vibe, let the vibe\n",
      "Moment is medical, yeah\n",
      "Sippin' on straight chlorine\n",
      "Let the vibe, let the vibe\n",
      "Let the vibe, let the vibe\n",
      "Beat is a chemical, yeah\n",
      "Let the vibe, let the vibe\n",
      "Let the vibe, let the vibe\n",
      "Moment is medical, yeah\n",
      "I'm so sorry, I forgot you\n",
      "Let me catch you up to speed\n",
      "I've been tested like the ends of\n",
      "A weathered flag that's by the sea\n",
      "Can you build my house with pieces?\n",
      "I'm just a chemical\n",
      "Can you build my house with pieces?\n",
      "I'm just a chemical\n",
      "Can you build my house with pieces?\n",
      "I'm just a chemical\n",
      "Can you build my house with pieces?\n",
      "I'm just a chemical\n",
      "\n"
     ]
    }
   ],
   "source": [
    "print(musica)"
   ]
  },
  {
   "cell_type": "code",
   "execution_count": 9,
   "id": "ae1ad673",
   "metadata": {},
   "outputs": [],
   "source": [
    "#regex = expressao regular"
   ]
  },
  {
   "cell_type": "code",
   "execution_count": 19,
   "id": "1ea630fe",
   "metadata": {},
   "outputs": [
    {
     "name": "stdout",
     "output_type": "stream",
     "text": [
      "O caractere 'a' apareceu 111 vezes.\n"
     ]
    }
   ],
   "source": [
    "#1- crie um regex para contar quantas vezes o caractere 'a' aparece em todo o texto da musica\n",
    "\n",
    "ocorrencias = len(re.findall('a', musica))\n",
    "\n",
    "print(\"O caractere 'a' apareceu\", ocorrencias, \"vezes.\")"
   ]
  },
  {
   "cell_type": "code",
   "execution_count": 21,
   "id": "bc0b60b6",
   "metadata": {},
   "outputs": [
    {
     "name": "stdout",
     "output_type": "stream",
     "text": [
      "A palavra 'chemical' apareceu 12 vezes.\n"
     ]
    }
   ],
   "source": [
    "#2- crie um regex em python para contar quantas vezes a palavra chemical aparece na musica\n",
    "\n",
    "ocorrencias = len(re.findall(r'\\bchemical\\b', musica))\n",
    "\n",
    "print(\"A palavra 'chemical' apareceu\", ocorrencias, \"vezes.\")"
   ]
  },
  {
   "cell_type": "code",
   "execution_count": 22,
   "id": "916f934a",
   "metadata": {},
   "outputs": [
    {
     "name": "stdout",
     "output_type": "stream",
     "text": [
      "Palavras seguidas por interrogação: ['you?', 'pieces?', 'pieces?', 'pieces?', 'pieces?']\n"
     ]
    }
   ],
   "source": [
    "#3- crie um regex para extrair as palavras seguidas por interrogação\n",
    "\n",
    "palavras_com_interrogacao = re.findall(r'\\b\\w+\\?', musica)\n",
    "\n",
    "print(\"Palavras seguidas por interrogação:\", palavras_com_interrogacao)"
   ]
  },
  {
   "cell_type": "code",
   "execution_count": 23,
   "id": "a75ce390",
   "metadata": {},
   "outputs": [
    {
     "name": "stdout",
     "output_type": "stream",
     "text": [
      "Palavras extraídas: ['house', 'house', 'house', 'house']\n"
     ]
    }
   ],
   "source": [
    "#4 - crie um regex que extrai qualquer palavra cujo antecessor seja a palavra 'my' e o sucessor seja 'with'\n",
    "\n",
    "palavras = re.findall(r'\\bmy\\b\\s+(\\w+)\\s+\\bwith\\b', musica)\n",
    "\n",
    "print(\"Palavras extraídas:\", palavras)"
   ]
  },
  {
   "cell_type": "code",
   "execution_count": 24,
   "id": "00a58e6b",
   "metadata": {},
   "outputs": [
    {
     "name": "stdout",
     "output_type": "stream",
     "text": [
      "Palavras anteriores ao 'ed': ['confin', 'r', 'r', 'wrapp', 'spe', 'test', 'weather']\n"
     ]
    }
   ],
   "source": [
    "#5 - crie um regex que retorne as palavras com 'ed', mas somente os caracteres na palavra que sao anteriores ao \n",
    "#caracter com 'ed'\n",
    "\n",
    "resultados = re.findall(r'\\b(\\w+)(?=ed\\b)', musica)\n",
    "\n",
    "# Exibindo os resultados\n",
    "print(\"Palavras anteriores ao 'ed':\", resultados)"
   ]
  },
  {
   "cell_type": "code",
   "execution_count": 25,
   "id": "3af9995d",
   "metadata": {},
   "outputs": [
    {
     "name": "stdout",
     "output_type": "stream",
     "text": [
      "Palavras anteriores ao acento: ['caf', 'maç', 'Voc', 'caf', 'amanh']\n"
     ]
    }
   ],
   "source": [
    "#6 - crie um regex que retorne palavras com acento, mas somente os caracteres na palavra que\n",
    "#sao anteriores ao caracter com acento\n",
    "\n",
    "texto = \"\"\"Eu gosto de café e de maçã. Você vai ao café amanhã?\"\"\"\n",
    "\n",
    "resultados = re.findall(r'\\b(\\w+)(?=[áéíóúãõâêîôûàèìòù])', texto)\n",
    "\n",
    "print(\"Palavras anteriores ao acento:\", resultados)"
   ]
  },
  {
   "cell_type": "code",
   "execution_count": null,
   "id": "17654472",
   "metadata": {},
   "outputs": [],
   "source": []
  }
 ],
 "metadata": {
  "kernelspec": {
   "display_name": "Python 3 (ipykernel)",
   "language": "python",
   "name": "python3"
  },
  "language_info": {
   "codemirror_mode": {
    "name": "ipython",
    "version": 3
   },
   "file_extension": ".py",
   "mimetype": "text/x-python",
   "name": "python",
   "nbconvert_exporter": "python",
   "pygments_lexer": "ipython3",
   "version": "3.9.13"
  }
 },
 "nbformat": 4,
 "nbformat_minor": 5
}
