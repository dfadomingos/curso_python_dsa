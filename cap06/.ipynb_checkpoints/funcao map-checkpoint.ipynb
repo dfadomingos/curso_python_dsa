{
 "cells": [
  {
   "cell_type": "code",
   "execution_count": 1,
   "id": "d6d051ff",
   "metadata": {},
   "outputs": [],
   "source": [
    "#é uma função que aplica uma determinada função a cada elemento de uma estrutura de dados iteravel.\n",
    "#ela retorna um objeto que pode ser convertido em outra estrutura de dados, como uma lista, se necessario"
   ]
  },
  {
   "cell_type": "code",
   "execution_count": 2,
   "id": "444f89f4",
   "metadata": {},
   "outputs": [],
   "source": [
    "def potencia(x):\n",
    "    return x ** 2"
   ]
  },
  {
   "cell_type": "code",
   "execution_count": 3,
   "id": "a96feef5",
   "metadata": {},
   "outputs": [],
   "source": [
    "numeros = [1, 2, 3, 4, 5]"
   ]
  },
  {
   "cell_type": "code",
   "execution_count": 6,
   "id": "68d32caa",
   "metadata": {},
   "outputs": [],
   "source": [
    "numeros_ao_quad = list(map(potencia, numeros))   #funcao map vai aplicar a funcao potencia a cada item da lista de numeros"
   ]
  },
  {
   "cell_type": "code",
   "execution_count": 7,
   "id": "e06f4cf4",
   "metadata": {},
   "outputs": [
    {
     "name": "stdout",
     "output_type": "stream",
     "text": [
      "[1, 4, 9, 16, 25]\n"
     ]
    }
   ],
   "source": [
    "print(numeros_ao_quad)"
   ]
  },
  {
   "cell_type": "code",
   "execution_count": 8,
   "id": "a8e727aa",
   "metadata": {},
   "outputs": [],
   "source": [
    "#criando duas funçoes\n",
    "def fahrenheit(T):\n",
    "    return((float(9)/(5))*T + 32)\n",
    "\n",
    "def celsius(T):\n",
    "    return(float(5)/(9)*(T-32))"
   ]
  },
  {
   "cell_type": "code",
   "execution_count": 9,
   "id": "312f69a5",
   "metadata": {},
   "outputs": [],
   "source": [
    "temperaturas = [0, 22.5, 40, 100]"
   ]
  },
  {
   "cell_type": "code",
   "execution_count": 11,
   "id": "3327a7d6",
   "metadata": {},
   "outputs": [
    {
     "data": {
      "text/plain": [
       "[32.0, 72.5, 104.0, 212.0]"
      ]
     },
     "execution_count": 11,
     "metadata": {},
     "output_type": "execute_result"
    }
   ],
   "source": [
    "list(map(fahrenheit, temperaturas))"
   ]
  },
  {
   "cell_type": "code",
   "execution_count": 13,
   "id": "a1b87f16",
   "metadata": {},
   "outputs": [
    {
     "name": "stdout",
     "output_type": "stream",
     "text": [
      "32.0\n",
      "72.5\n",
      "104.0\n",
      "212.0\n"
     ]
    }
   ],
   "source": [
    "#usando um loop\n",
    "for temp in map(fahrenheit, temperaturas):\n",
    "    print(temp)"
   ]
  },
  {
   "cell_type": "code",
   "execution_count": 12,
   "id": "dd6f9865",
   "metadata": {},
   "outputs": [
    {
     "data": {
      "text/plain": [
       "[-17.77777777777778, -5.277777777777778, 4.444444444444445, 37.77777777777778]"
      ]
     },
     "execution_count": 12,
     "metadata": {},
     "output_type": "execute_result"
    }
   ],
   "source": [
    "list(map(celsius, temperaturas))"
   ]
  },
  {
   "cell_type": "code",
   "execution_count": 15,
   "id": "8299fbae",
   "metadata": {},
   "outputs": [
    {
     "data": {
      "text/plain": [
       "[-17.77777777777778, -5.277777777777778, 4.444444444444445, 37.77777777777778]"
      ]
     },
     "execution_count": 15,
     "metadata": {},
     "output_type": "execute_result"
    }
   ],
   "source": [
    "#usando a expressao lambda\n",
    "list(map(lambda x: (5.0)/(9)*(x-32), temperaturas))"
   ]
  },
  {
   "cell_type": "code",
   "execution_count": 16,
   "id": "4d362239",
   "metadata": {},
   "outputs": [],
   "source": [
    "#somando elementos de 2 listas\n",
    "a = [1, 2, 3, 4]\n",
    "b = [5, 6, 7, 8]"
   ]
  },
  {
   "cell_type": "code",
   "execution_count": 19,
   "id": "7efc6951",
   "metadata": {},
   "outputs": [
    {
     "data": {
      "text/plain": [
       "[6, 8, 10, 12]"
      ]
     },
     "execution_count": 19,
     "metadata": {},
     "output_type": "execute_result"
    }
   ],
   "source": [
    "list(map(lambda x,y:x+y, a, b))"
   ]
  },
  {
   "cell_type": "code",
   "execution_count": 20,
   "id": "82c2c0e1",
   "metadata": {},
   "outputs": [],
   "source": [
    "#somando elementos de 3 listas\n",
    "a = [1, 2, 3, 4]\n",
    "b = [5, 6, 7, 8]\n",
    "c = [9, 10, 11, 12]"
   ]
  },
  {
   "cell_type": "code",
   "execution_count": 21,
   "id": "f98d94d7",
   "metadata": {},
   "outputs": [
    {
     "data": {
      "text/plain": [
       "[15, 18, 21, 24]"
      ]
     },
     "execution_count": 21,
     "metadata": {},
     "output_type": "execute_result"
    }
   ],
   "source": [
    "list(map(lambda x,y,z: x + y + z, a,b,c))"
   ]
  }
 ],
 "metadata": {
  "kernelspec": {
   "display_name": "Python 3 (ipykernel)",
   "language": "python",
   "name": "python3"
  },
  "language_info": {
   "codemirror_mode": {
    "name": "ipython",
    "version": 3
   },
   "file_extension": ".py",
   "mimetype": "text/x-python",
   "name": "python",
   "nbconvert_exporter": "python",
   "pygments_lexer": "ipython3",
   "version": "3.9.13"
  }
 },
 "nbformat": 4,
 "nbformat_minor": 5
}
