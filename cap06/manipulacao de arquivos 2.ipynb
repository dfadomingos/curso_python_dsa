{
 "cells": [
  {
   "cell_type": "markdown",
   "id": "6f8321c7",
   "metadata": {},
   "source": [
    "### Manipulando arquivo txt"
   ]
  },
  {
   "cell_type": "code",
   "execution_count": 24,
   "id": "2bdac674",
   "metadata": {},
   "outputs": [],
   "source": [
    "texto = 'Cientista de dados pode ser uma excelente alternativa na carreira \\n'\n",
    "texto = texto + 'Esses profissionais precisam saber como programar em Python. \\n'\n",
    "texto += 'E, claro. Devem ser proficientes em Data Science.'"
   ]
  },
  {
   "cell_type": "code",
   "execution_count": 25,
   "id": "df4a73fe",
   "metadata": {},
   "outputs": [
    {
     "name": "stdout",
     "output_type": "stream",
     "text": [
      "Cientista de dados pode ser uma excelente alternativa na carreira \n",
      "Esses profissionais precisam saber como programar em Python. \n",
      "E, claro. Devem ser proficientes em Data Science.\n"
     ]
    }
   ],
   "source": [
    "print(texto)"
   ]
  },
  {
   "cell_type": "code",
   "execution_count": 26,
   "id": "770b992d",
   "metadata": {},
   "outputs": [],
   "source": [
    "#importante modulo os\n",
    "import os  #permite interagir com o so de forma simples e rapida "
   ]
  },
  {
   "cell_type": "code",
   "execution_count": 27,
   "id": "8f724cb3",
   "metadata": {},
   "outputs": [],
   "source": [
    "arquivo = open(os.path.join('materiais_cap06/arquivos/cientista.txt'), 'w')"
   ]
  },
  {
   "cell_type": "code",
   "execution_count": 28,
   "id": "b010c30f",
   "metadata": {},
   "outputs": [],
   "source": [
    "#gravando os dados no arquivo \n",
    "for palavra in texto.split():\n",
    "    arquivo.write(palavra + ' ')"
   ]
  },
  {
   "cell_type": "code",
   "execution_count": 29,
   "id": "be12757e",
   "metadata": {},
   "outputs": [],
   "source": [
    "arquivo.close()"
   ]
  },
  {
   "cell_type": "code",
   "execution_count": 30,
   "id": "eb09dc8c",
   "metadata": {},
   "outputs": [
    {
     "name": "stdout",
     "output_type": "stream",
     "text": [
      "Cientista de dados pode ser uma excelente alternativa na carreira Esses profissionais precisam saber como programar em Python. E, claro. Devem ser proficientes em Data Science. \n"
     ]
    }
   ],
   "source": [
    "arquivo = open(os.path.join('materiais_cap06/arquivos/cientista.txt'), 'r')\n",
    "conteudo = arquivo.read()\n",
    "arquivo.close()\n",
    "\n",
    "print(conteudo)"
   ]
  },
  {
   "cell_type": "markdown",
   "id": "421317cb",
   "metadata": {},
   "source": [
    "### Usando a expressao WITH\n",
    "\n",
    "metodo close é executado automaticamente"
   ]
  },
  {
   "cell_type": "code",
   "execution_count": 31,
   "id": "6cc4b5b5",
   "metadata": {},
   "outputs": [],
   "source": [
    "with open('materiais_cap06/arquivos/cientista.txt', 'r') as arquivo:\n",
    "    conteudo = arquivo.read()"
   ]
  },
  {
   "cell_type": "code",
   "execution_count": 32,
   "id": "0855ffb5",
   "metadata": {},
   "outputs": [
    {
     "name": "stdout",
     "output_type": "stream",
     "text": [
      "177\n"
     ]
    }
   ],
   "source": [
    "print(len(conteudo))"
   ]
  },
  {
   "cell_type": "code",
   "execution_count": 33,
   "id": "d9e71d1f",
   "metadata": {},
   "outputs": [
    {
     "name": "stdout",
     "output_type": "stream",
     "text": [
      "Cientista de dados pode ser uma excelente alternativa na carreira Esses profissionais precisam saber como programar em Python. E, claro. Devem ser proficientes em Data Science. \n"
     ]
    }
   ],
   "source": [
    "print(conteudo)"
   ]
  },
  {
   "cell_type": "code",
   "execution_count": 34,
   "id": "35f84234",
   "metadata": {},
   "outputs": [],
   "source": [
    "with open('materiais_cap06/arquivos/cientista.txt', 'w') as arquivo:\n",
    "    arquivo.write(texto[:19])\n",
    "    arquivo.write('\\n')\n",
    "    arquivo.write(texto[28:66])"
   ]
  },
  {
   "cell_type": "code",
   "execution_count": 35,
   "id": "e0f34144",
   "metadata": {},
   "outputs": [
    {
     "name": "stdout",
     "output_type": "stream",
     "text": [
      "Cientista de dados \n",
      "uma excelente alternativa na carreira \n"
     ]
    }
   ],
   "source": [
    "arquivo = open('materiais_cap06/arquivos/cientista.txt', 'r')\n",
    "conteudo = arquivo.read()\n",
    "arquivo.close()\n",
    "print(conteudo)"
   ]
  },
  {
   "cell_type": "markdown",
   "id": "5ef6260d",
   "metadata": {},
   "source": [
    "### Manipulando arquivos CSV"
   ]
  },
  {
   "cell_type": "code",
   "execution_count": 36,
   "id": "4ad30cb7",
   "metadata": {},
   "outputs": [],
   "source": [
    "import csv"
   ]
  },
  {
   "cell_type": "code",
   "execution_count": 65,
   "id": "b1dc1c50",
   "metadata": {},
   "outputs": [],
   "source": [
    "with open('materiais_cap06/arquivos/numeros.csv', 'w', newline='') as arquivo:\n",
    "    writer = csv.writer(arquivo)    #cria o objeto de gravação\n",
    "    \n",
    "     #grava no arquivo linha a linha\n",
    "    writer.writerow(('nota1', 'nota2', 'nota3'))\n",
    "    writer.writerow((63, 87, 92))\n",
    "    writer.writerow((61, 79, 76))\n",
    "    writer.writerow((72, 64, 91))"
   ]
  },
  {
   "cell_type": "code",
   "execution_count": 66,
   "id": "f8602001",
   "metadata": {},
   "outputs": [
    {
     "name": "stdout",
     "output_type": "stream",
     "text": [
      "['nota1', 'nota2', 'nota3']\n",
      "['63', '87', '92']\n",
      "['61', '79', '76']\n",
      "['72', '64', '91']\n"
     ]
    }
   ],
   "source": [
    "with open('materiais_cap06/arquivos/numeros.csv', 'r', encoding='utf8', newline = '\\r\\n') as arquivo:\n",
    "    \n",
    "    #cria o objeto de leitura\n",
    "    leitor = csv.reader(arquivo)\n",
    "    \n",
    "    #loop\n",
    "    for x in leitor:\n",
    "        print(x)"
   ]
  },
  {
   "cell_type": "code",
   "execution_count": 67,
   "id": "ccc9a8a6",
   "metadata": {},
   "outputs": [],
   "source": [
    "with open('materiais_cap06/arquivos/numeros.csv', 'r') as arquivo:\n",
    "    leitor = csv.reader(arquivo)\n",
    "    dados = list(leitor)"
   ]
  },
  {
   "cell_type": "code",
   "execution_count": 68,
   "id": "d36c5ca7",
   "metadata": {},
   "outputs": [
    {
     "name": "stdout",
     "output_type": "stream",
     "text": [
      "[['nota1', 'nota2', 'nota3'], ['63', '87', '92'], ['61', '79', '76'], ['72', '64', '91']]\n"
     ]
    }
   ],
   "source": [
    "print(dados)"
   ]
  },
  {
   "cell_type": "code",
   "execution_count": 69,
   "id": "d446acbb",
   "metadata": {},
   "outputs": [
    {
     "name": "stdout",
     "output_type": "stream",
     "text": [
      "['63', '87', '92']\n",
      "['61', '79', '76']\n",
      "['72', '64', '91']\n"
     ]
    }
   ],
   "source": [
    "#imprimindo a partir da 2ª linha\n",
    "for linha in dados[1:]:\n",
    "    print(linha)"
   ]
  },
  {
   "cell_type": "code",
   "execution_count": null,
   "id": "d027372c",
   "metadata": {},
   "outputs": [],
   "source": []
  }
 ],
 "metadata": {
  "kernelspec": {
   "display_name": "Python 3 (ipykernel)",
   "language": "python",
   "name": "python3"
  },
  "language_info": {
   "codemirror_mode": {
    "name": "ipython",
    "version": 3
   },
   "file_extension": ".py",
   "mimetype": "text/x-python",
   "name": "python",
   "nbconvert_exporter": "python",
   "pygments_lexer": "ipython3",
   "version": "3.9.13"
  }
 },
 "nbformat": 4,
 "nbformat_minor": 5
}
